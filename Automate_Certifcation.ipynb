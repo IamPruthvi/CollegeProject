{
  "nbformat": 4,
  "nbformat_minor": 0,
  "metadata": {
    "colab": {
      "name": "Automate Certifcation.ipynb",
      "provenance": []
    },
    "kernelspec": {
      "name": "python3",
      "display_name": "Python 3"
    },
    "language_info": {
      "name": "python"
    }
  },
  "cells": [
    {
      "cell_type": "code",
      "metadata": {
        "id": "IFFdd7iyg1Y1"
      },
      "source": [
        "#pro\n",
        "def ShortName(name, surname, middle=None):\n",
        "    try:\n",
        "        if type(name) and type(surname) is not str and middle is None or not str :\n",
        "            raise TypeError('Name is not a String type')\n",
        "        if middle==None:\n",
        "            return f'{name} {surname}'\n",
        "        return f'{name} {middle[0]} {surname}' if len(''.join([name,surname,middle]))>20 else f'{name} {middle} {surname}'\n",
        "    except TypeError:\n",
        "        print('Type Error found, Incorrect type format')"
      ],
      "execution_count": 8,
      "outputs": []
    },
    {
      "cell_type": "code",
      "metadata": {
        "colab": {
          "base_uri": "https://localhost:8080/",
          "height": 35
        },
        "id": "opRdDPBUiyZ8",
        "outputId": "9efc9ed1-c270-4e57-aec3-a36d643d4ad7"
      },
      "source": [
        "ShortName(name='Pruthviraj', surname='Mhaske', middle='Dipak')"
      ],
      "execution_count": 9,
      "outputs": [
        {
          "output_type": "execute_result",
          "data": {
            "text/plain": [
              "'Pruthviraj D Mhaske'"
            ],
            "application/vnd.google.colaboratory.intrinsic+json": {
              "type": "string"
            }
          },
          "metadata": {},
          "execution_count": 9
        }
      ]
    },
    {
      "cell_type": "code",
      "metadata": {
        "id": "HLDlvZeXpMrn"
      },
      "source": [
        "from google.colab.patches import cv2_imshow\n",
        "import cv2\n"
      ],
      "execution_count": 10,
      "outputs": []
    },
    {
      "cell_type": "code",
      "metadata": {
        "colab": {
          "base_uri": "https://localhost:8080/",
          "height": 152
        },
        "id": "sV7K_dwwUQMO",
        "outputId": "7ce3d186-2813-4f57-80bc-ec0e82393a4b"
      },
      "source": [
        "sign = cv2.imread('Samantha_Signature.jpg')\n",
        "print(sign.shape)\n",
        "sign = cv2.resize(sign, (200*2,100*2))\n",
        "cv2_imshow(sign)\n",
        "print(sign.shape)"
      ],
      "execution_count": 11,
      "outputs": [
        {
          "output_type": "stream",
          "name": "stdout",
          "text": [
            "(535, 712, 3)\n"
          ]
        },
        {
          "output_type": "display_data",
          "data": {
            "text/plain": [
              "<PIL.Image.Image image mode=RGB size=200x100 at 0x7F889E3030D0>"
            ],
            "image/png": "[encoded data removed]"
          },
          "metadata": {}
        },
        {
          "output_type": "stream",
          "name": "stdout",
          "text": [
            "(100, 200, 3)\n"
          ]
        }
      ]
    },
    {
      "cell_type": "code",
      "metadata": {
        "colab": {
          "base_uri": "https://localhost:8080/",
          "height": 35
        },
        "id": "LIQlq08VWQWA",
        "outputId": "16f0d6df-4775-4ce8-b9a8-7b377ceeb58d"
      },
      "source": [
        "import datetime\n",
        "date = datetime.date.today()\n",
        "str(date)"
      ],
      "execution_count": 12,
      "outputs": [
        {
          "output_type": "execute_result",
          "data": {
            "text/plain": [
              "'2022-03-15'"
            ],
            "application/vnd.google.colaboratory.intrinsic+json": {
              "type": "string"
            }
          },
          "metadata": {},
          "execution_count": 12
        }
      ]
    },
    {
      "cell_type": "code",
      "metadata": {
        "id": "hNe5guDcnjQ5"
      },
      "source": [
        "\n",
        "def generate_certificate(name, date, sign):\n",
        "    img = cv2.imread('temp.jpg')\n",
        "    write = cv2.putText(img, name, (700,620), cv2.FONT_HERSHEY_SIMPLEX, \n",
        "                    2, (0,0,0), 2, cv2.LINE_AA)\n",
        "\n",
        "    y_offset = 1000\n",
        "    x_offset = 1300\n",
        "\n",
        "    write = cv2.putText(img, str(date), (450,1100), cv2.FONT_HERSHEY_SIMPLEX, 1, (0,0,0), 2, cv2.LINE_AA)\n",
        "    write[y_offset : y_offset + sign.shape[0], x_offset : x_offset + sign.shape[1]] = sign\n",
        "    cv2.imwrite(filename=f'{name}.jpg', img=write)"
      ],
      "execution_count": 44,
      "outputs": []
    },
    {
      "cell_type": "code",
      "metadata": {
        "id": "PBzcuvntWH2L"
      },
      "source": [
        "names = [['Pruthviraj', 'Dipak', 'Mhaske'],\n",
        "         ['Aumkar', 'Dipak', 'Mhaske'],\n",
        "         ['Kalpana', 'Dipak', 'Mhaske'],\n",
        "         ['Dipak', 'Tukaram', 'Mhaske']]\n",
        "for name in names:\n",
        "    n,m,s = name\n",
        "    s_name = ShortName(name=n, middle=m, surname=s)\n",
        "    generate_certificate(name=s_name, sign=sign, date=date)"
      ],
      "execution_count": 14,
      "outputs": []
    },
    {
      "cell_type": "code",
      "source": [
        "generate_certificate(name=ShortName('Pruthviraj', 'Mhaske', 'Dipak'), sign=sign, date=date)"
      ],
      "metadata": {
        "id": "N8JBPCNOPJZu"
      },
      "execution_count": 45,
      "outputs": []
    },
    {
      "cell_type": "code",
      "source": [
        ""
      ],
      "metadata": {
        "id": "SJdi3nIrRb6a"
      },
      "execution_count": null,
      "outputs": []
    }
  ]
}